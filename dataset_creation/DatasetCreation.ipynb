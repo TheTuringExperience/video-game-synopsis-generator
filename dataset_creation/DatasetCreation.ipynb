{
 "cells": [
  {
   "cell_type": "code",
   "execution_count": 1,
   "metadata": {},
   "outputs": [
    {
     "name": "stderr",
     "output_type": "stream",
     "text": [
      "[nltk_data] Downloading package stopwords to\n",
      "[nltk_data]     C:\\Users\\olive\\AppData\\Roaming\\nltk_data...\n",
      "[nltk_data]   Package stopwords is already up-to-date!\n"
     ]
    }
   ],
   "source": [
    "import numpy as np\n",
    "import pandas as pd\n",
    "\n",
    "from bs4 import BeautifulSoup\n",
    "import langid\n",
    "import re\n",
    "from summarizer.summarizer import generate_summary\n",
    "\n",
    "from collections import Counter\n",
    "\n",
    "import seaborn as sns\n",
    "import matplotlib.pyplot as plt\n",
    "#TODO: Explore what are the different steamspy_tags, categories and genres, and deciding which one's to filter the data by"
   ]
  },
  {
   "cell_type": "code",
   "execution_count": 2,
   "metadata": {},
   "outputs": [],
   "source": [
    "steam_data = pd.read_csv(r'C:\\Users\\olive\\gameSinopsisGeneration\\steamData\\steam.csv', encoding='utf-8')\n",
    "steam_description_data = pd.read_csv(r'C:\\Users\\olive\\gameSinopsisGeneration\\steamData\\steam_description_data.csv', encoding='utf-8')\n",
    "#Change the indexs to make the concatenation easier\n",
    "steam_data = steam_data.set_index('appid')\n",
    "steam_description_data = steam_description_data.set_index('steam_appid')"
   ]
  },
  {
   "cell_type": "code",
   "execution_count": 3,
   "metadata": {},
   "outputs": [],
   "source": [
    "data = pd.concat([steam_data, steam_description_data], axis=1, join='inner')"
   ]
  },
  {
   "cell_type": "code",
   "execution_count": 4,
   "metadata": {},
   "outputs": [],
   "source": [
    "useless_columns = ['release_date', 'english', 'developer', 'publisher', 'platforms', \n",
    "                   'required_age', 'achievements', 'average_playtime', 'median_playtime',\n",
    "                   'owners', 'price','about_the_game', 'short_description']\n",
    "data = data.drop(useless_columns, axis=1)"
   ]
  },
  {
   "cell_type": "code",
   "execution_count": 5,
   "metadata": {},
   "outputs": [],
   "source": [
    "t = []\n",
    "for tags in data.steamspy_tags.to_list():\n",
    "    for x in tags.split(';'):        \n",
    "        t.append(x)\n",
    "        \n",
    "tags = Counter(t)\n",
    "# sorted(tags.items(), key=lambda x: x[1], reverse=True)"
   ]
  },
  {
   "cell_type": "code",
   "execution_count": 6,
   "metadata": {},
   "outputs": [],
   "source": [
    "filter_tags = ['Sci-fi', 'Strategy', 'Adventure', 'Indie', 'RPG', 'Cyberpunk', 'Fantasy', 'Story Rich', 'Horror']"
   ]
  },
  {
   "cell_type": "code",
   "execution_count": 7,
   "metadata": {
    "scrolled": true
   },
   "outputs": [
    {
     "data": {
      "text/plain": [
       "22241"
      ]
     },
     "execution_count": 7,
     "metadata": {},
     "output_type": "execute_result"
    }
   ],
   "source": [
    "data = data[data.steamspy_tags.str.contains('Sci-fi', regex=False) | data.steamspy_tags.str.contains('Strategy', regex=False) |\n",
    "           data.steamspy_tags.str.contains('Adventure', regex=False) | data.steamspy_tags.str.contains('Indie', regex=False) |\n",
    "           data.steamspy_tags.str.contains('RPG', regex=False) | data.steamspy_tags.str.contains('Cyberpunk', regex=False) |\n",
    "           data.steamspy_tags.str.contains('Fantasy', regex=False) | data.steamspy_tags.str.contains('Story Rich', regex=False) |\n",
    "           data.steamspy_tags.str.contains('Horror', regex=False)]\n",
    "len(data)"
   ]
  },
  {
   "cell_type": "code",
   "execution_count": 8,
   "metadata": {},
   "outputs": [],
   "source": [
    "data['steamspy_tags'] = data.steamspy_tags.map(lambda x: \";\".join([t for t in x.split(';') if t in filter_tags]))"
   ]
  },
  {
   "cell_type": "code",
   "execution_count": null,
   "metadata": {},
   "outputs": [],
   "source": [
    "data['steamspy_tags'] = data.steamspy_tags.map(lambda x: x.replace(' ', '-').lower())\n",
    "data['steamspy_tags'] = data.steamspy_tags.map(lambda x: x.replace(';', ' ').lower())"
   ]
  },
  {
   "cell_type": "code",
   "execution_count": null,
   "metadata": {},
   "outputs": [],
   "source": [
    "word_len = []\n",
    "for i in data.detailed_description:\n",
    "    word_len.append(len(i.split()))"
   ]
  },
  {
   "cell_type": "code",
   "execution_count": null,
   "metadata": {
    "scrolled": false
   },
   "outputs": [
    {
     "data": {
      "image/png": "[encoded data removed]",
      "text/plain": [
       "<Figure size 432x288 with 1 Axes>"
      ]
     },
     "metadata": {
      "needs_background": "light"
     },
     "output_type": "display_data"
    }
   ],
   "source": [
    "plt.hist(word_len, bins=10, range=(0,600))\n",
    "plt.show()"
   ]
  },
  {
   "cell_type": "code",
   "execution_count": null,
   "metadata": {},
   "outputs": [],
   "source": [
    "not_too_large = []\n",
    "for word in word_len:\n",
    "    not_too_large.append(word <= 250)"
   ]
  },
  {
   "cell_type": "code",
   "execution_count": null,
   "metadata": {
    "scrolled": true
   },
   "outputs": [],
   "source": [
    "prepared_data = data[not_too_large]"
   ]
  },
  {
   "cell_type": "code",
   "execution_count": null,
   "metadata": {
    "scrolled": true
   },
   "outputs": [],
   "source": [
    "# prepared_data['genres'] = prepared_data.genres.map(lambda x: \" \".join([genre if genre in filter_tags else '' for genre in x.split(';')]))"
   ]
  },
  {
   "cell_type": "code",
   "execution_count": null,
   "metadata": {
    "scrolled": true
   },
   "outputs": [
    {
     "name": "stderr",
     "output_type": "stream",
     "text": [
      "C:\\Users\\olive\\Anaconda3\\lib\\site-packages\\pandas\\core\\generic.py:5096: SettingWithCopyWarning: \n",
      "A value is trying to be set on a copy of a slice from a DataFrame.\n",
      "Try using .loc[row_indexer,col_indexer] = value instead\n",
      "\n",
      "See the caveats in the documentation: http://pandas.pydata.org/pandas-docs/stable/indexing.html#indexing-view-versus-copy\n",
      "  self[name] = value\n"
     ]
    }
   ],
   "source": [
    "prepared_data.detailed_description = prepared_data.detailed_description.map(lambda x: BeautifulSoup(x, 'html.parser').get_text())"
   ]
  },
  {
   "cell_type": "code",
   "execution_count": null,
   "metadata": {
    "scrolled": true
   },
   "outputs": [],
   "source": [
    "prepared_data = prepared_data[prepared_data.detailed_description.map(lambda x: langid.classify(x)[0] == 'en' )]"
   ]
  },
  {
   "cell_type": "code",
   "execution_count": null,
   "metadata": {},
   "outputs": [],
   "source": [
    "prepared_data.detailed_description = prepared_data.detailed_description.map(lambda x: re.sub(r'[\\t\\r]', '', x))"
   ]
  },
  {
   "cell_type": "code",
   "execution_count": null,
   "metadata": {
    "scrolled": true
   },
   "outputs": [
    {
     "name": "stderr",
     "output_type": "stream",
     "text": [
      "C:\\Users\\olive\\Anaconda3\\lib\\site-packages\\nltk\\cluster\\util.py:133: RuntimeWarning: invalid value encountered in true_divide\n",
      "  return 1 - (numpy.dot(u, v) / (sqrt(numpy.dot(u, u)) * sqrt(numpy.dot(v, v))))\n"
     ]
    }
   ],
   "source": [
    "prepared_data.detailed_description = prepared_data.detailed_description.map(lambda x: generate_summary(x))"
   ]
  },
  {
   "cell_type": "code",
   "execution_count": null,
   "metadata": {},
   "outputs": [],
   "source": [
    "prepared_data = prepared_data[prepared_data.steamspy_tags != \"\"]"
   ]
  },
  {
   "cell_type": "code",
   "execution_count": 55,
   "metadata": {
    "scrolled": false
   },
   "outputs": [],
   "source": [
    "prepared_data['steamspy_tags'].to_csv('gpt2_generate.csv', index = False, header=False)"
   ]
  },
  {
   "cell_type": "code",
   "execution_count": 56,
   "metadata": {},
   "outputs": [],
   "source": [
    "output_data = prepared_data['steamspy_tags'] + \" [SEP] \" + prepared_data['detailed_description']"
   ]
  },
  {
   "cell_type": "code",
   "execution_count": 57,
   "metadata": {
    "scrolled": false
   },
   "outputs": [],
   "source": [
    "output_data.to_csv('gpt2_finetune.csv', index=False, encoding='utf-8', header=False)"
   ]
  },
  {
   "cell_type": "code",
   "execution_count": 58,
   "metadata": {
    "scrolled": true
   },
   "outputs": [],
   "source": [
    "genr = data['genres'].tolist()"
   ]
  },
  {
   "cell_type": "code",
   "execution_count": 26,
   "metadata": {},
   "outputs": [],
   "source": [
    "for g in genr:\n",
    "    x = g.split(\";\")\n",
    "    genr.remove(g)\n",
    "    genr = genr + x"
   ]
  },
  {
   "cell_type": "code",
   "execution_count": 59,
   "metadata": {},
   "outputs": [],
   "source": [
    "reals = prepared_data[['steamspy_tags', 'detailed_description']].iloc[:2000] "
   ]
  },
  {
   "cell_type": "code",
   "execution_count": 60,
   "metadata": {},
   "outputs": [],
   "source": [
    "reals['real'] = 1\n",
    "reals.columns = ['tag', 'synopsis', 'real']"
   ]
  },
  {
   "cell_type": "code",
   "execution_count": 61,
   "metadata": {},
   "outputs": [],
   "source": [
    "reals.to_csv(\"bert_gan_real.csv\", index=False, encoding='utf-8')"
   ]
  },
  {
   "cell_type": "code",
   "execution_count": 62,
   "metadata": {},
   "outputs": [
    {
     "data": {
      "image/png": "[encoded data removed]",
      "text/plain": [
       "<Figure size 432x288 with 1 Axes>"
      ]
     },
     "metadata": {
      "needs_background": "light"
     },
     "output_type": "display_data"
    }
   ],
   "source": [
    "word_len = []\n",
    "for i in prepared_data.detailed_description:\n",
    "    word_len.append(len(i.split()))\n",
    "    \n",
    "plt.hist(word_len, bins=10, range=(0,200))\n",
    "plt.show()"
   ]
  },
  {
   "cell_type": "code",
   "execution_count": null,
   "metadata": {},
   "outputs": [],
   "source": []
  }
 ],
 "metadata": {
  "kernelspec": {
   "display_name": "Python 3",
   "language": "python",
   "name": "python3"
  },
  "language_info": {
   "codemirror_mode": {
    "name": "ipython",
    "version": 3
   },
   "file_extension": ".py",
   "mimetype": "text/x-python",
   "name": "python",
   "nbconvert_exporter": "python",
   "pygments_lexer": "ipython3",
   "version": "3.7.3"
  }
 },
 "nbformat": 4,
 "nbformat_minor": 2
}
